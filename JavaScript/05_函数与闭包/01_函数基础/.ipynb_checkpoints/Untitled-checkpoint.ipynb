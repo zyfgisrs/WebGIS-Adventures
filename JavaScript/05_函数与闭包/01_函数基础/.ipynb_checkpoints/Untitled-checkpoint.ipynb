{
 "cells": [
  {
   "cell_type": "code",
   "execution_count": 2,
   "id": "5e5ed893-1297-447d-8db2-d90684cce9da",
   "metadata": {
    "execution": {
     "iopub.execute_input": "2023-10-31T12:00:12.105865Z",
     "iopub.status.busy": "2023-10-31T12:00:12.105865Z",
     "iopub.status.idle": "2023-10-31T12:00:12.106865Z",
     "shell.execute_reply": "2023-10-31T12:00:12.106865Z"
    },
    "tags": []
   },
   "outputs": [],
   "source": [
    "let func = function(){\n",
    "    console.log('123');\n",
    "};"
   ]
  },
  {
   "cell_type": "code",
   "execution_count": 3,
   "id": "08aefbe5-d26a-43c7-811e-34c77a1bcadf",
   "metadata": {
    "execution": {
     "iopub.execute_input": "2023-10-31T12:00:12.604182Z",
     "iopub.status.busy": "2023-10-31T12:00:12.604182Z",
     "iopub.status.idle": "2023-10-31T12:00:12.605181Z",
     "shell.execute_reply": "2023-10-31T12:00:12.606181Z"
    },
    "tags": []
   },
   "outputs": [],
   "source": [
    "function func1(){\n",
    "    console.log('zhouyf');\n",
    "}"
   ]
  },
  {
   "cell_type": "code",
   "execution_count": 4,
   "id": "ff607a47-7019-4092-bdf3-c059c0fb77eb",
   "metadata": {
    "execution": {
     "iopub.execute_input": "2023-10-31T12:00:13.133346Z",
     "iopub.status.busy": "2023-10-31T12:00:13.132345Z",
     "iopub.status.idle": "2023-10-31T12:00:13.135345Z",
     "shell.execute_reply": "2023-10-31T12:00:13.134347Z"
    },
    "tags": []
   },
   "outputs": [
    {
     "name": "stdout",
     "output_type": "stream",
     "text": [
      "17\n"
     ]
    }
   ],
   "source": [
    "function sum(...numbers){\n",
    "    let result = 0;\n",
    "    for(let num of numbers){\n",
    "        result += num;\n",
    "    }\n",
    "    return result;\n",
    "}\n",
    "\n",
    "var res = sum(1,2,3,5,6);\n",
    "console.log(res);"
   ]
  },
  {
   "cell_type": "code",
   "execution_count": 1,
   "id": "3be93b87-6485-475b-99f4-80cdcd33c66f",
   "metadata": {
    "execution": {
     "iopub.execute_input": "2023-10-31T12:04:16.492831Z",
     "iopub.status.busy": "2023-10-31T12:04:16.492831Z",
     "iopub.status.idle": "2023-10-31T12:04:16.492831Z",
     "shell.execute_reply": "2023-10-31T12:04:16.492831Z"
    },
    "tags": []
   },
   "outputs": [
    {
     "name": "stdout",
     "output_type": "stream",
     "text": [
      "name : Tom, age : 12\n"
     ]
    }
   ],
   "source": [
    "const user = {\n",
    "    name : 'Tom',\n",
    "    age : 12\n",
    "};\n",
    "\n",
    "function printUser({name, age}){\n",
    "    console.log(`name : ${name}, age : ${age}`);\n",
    "}\n",
    "\n",
    "printUser(user);"
   ]
  },
  {
   "cell_type": "code",
   "execution_count": 2,
   "id": "6fef4bd8-5001-4ec7-96b0-901b07cc5281",
   "metadata": {
    "execution": {
     "iopub.execute_input": "2023-10-31T12:08:08.180873Z",
     "iopub.status.busy": "2023-10-31T12:08:08.179873Z",
     "iopub.status.idle": "2023-10-31T12:08:08.182873Z",
     "shell.execute_reply": "2023-10-31T12:08:08.183872Z"
    }
   },
   "outputs": [
    {
     "name": "stdout",
     "output_type": "stream",
     "text": [
      "point:x = 1, y = 2\n"
     ]
    }
   ],
   "source": [
    "function printPoint([x,y]){\n",
    "    console.log(`point:x = ${x}, y = ${y}`);\n",
    "}\n",
    "\n",
    "var point = [1, 2];\n",
    "\n",
    "printPoint(point);"
   ]
  },
  {
   "cell_type": "code",
   "execution_count": 7,
   "id": "02f5cb43-06c0-4d42-bac3-23336e0d78a6",
   "metadata": {
    "execution": {
     "iopub.execute_input": "2023-10-31T12:14:35.060168Z",
     "iopub.status.busy": "2023-10-31T12:14:35.059168Z",
     "iopub.status.idle": "2023-10-31T12:14:35.064169Z",
     "shell.execute_reply": "2023-10-31T12:14:35.063168Z"
    },
    "tags": []
   },
   "outputs": [
    {
     "name": "stdout",
     "output_type": "stream",
     "text": [
      "Hello tom you are 10 years old\n",
      "Hello james you are 10 years old\n",
      "Hello lucy you are 26 years old\n"
     ]
    }
   ],
   "source": [
    "function greet({name = 'tom', age = 10} = {}){\n",
    "    console.log(`Hello ${name} you are ${age} years old`);\n",
    "}\n",
    "\n",
    "greet();\n",
    "greet({name : 'james'});\n",
    "greet({name : 'lucy', age : 26})"
   ]
  }
 ],
 "metadata": {
  "kernelspec": {
   "display_name": "JavaScript (Node.js)",
   "language": "javascript",
   "name": "javascript"
  },
  "language_info": {
   "file_extension": ".js",
   "mimetype": "application/javascript",
   "name": "javascript",
   "version": "18.16.0"
  }
 },
 "nbformat": 4,
 "nbformat_minor": 5
}
