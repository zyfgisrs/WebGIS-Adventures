{
 "cells": [
  {
   "cell_type": "code",
   "execution_count": 2,
   "id": "5e5ed893-1297-447d-8db2-d90684cce9da",
   "metadata": {
    "execution": {
     "iopub.execute_input": "2023-10-31T12:00:12.105865Z",
     "iopub.status.busy": "2023-10-31T12:00:12.105865Z",
     "iopub.status.idle": "2023-10-31T12:00:12.106865Z",
     "shell.execute_reply": "2023-10-31T12:00:12.106865Z"
    },
    "tags": []
   },
   "outputs": [],
   "source": [
    "let func = function(){\n",
    "    console.log('123');\n",
    "};"
   ]
  },
  {
   "cell_type": "code",
   "execution_count": 3,
   "id": "08aefbe5-d26a-43c7-811e-34c77a1bcadf",
   "metadata": {
    "execution": {
     "iopub.execute_input": "2023-10-31T12:00:12.604182Z",
     "iopub.status.busy": "2023-10-31T12:00:12.604182Z",
     "iopub.status.idle": "2023-10-31T12:00:12.605181Z",
     "shell.execute_reply": "2023-10-31T12:00:12.606181Z"
    },
    "tags": []
   },
   "outputs": [],
   "source": [
    "function func1(){\n",
    "    console.log('zhouyf');\n",
    "}"
   ]
  },
  {
   "cell_type": "code",
   "execution_count": 4,
   "id": "ff607a47-7019-4092-bdf3-c059c0fb77eb",
   "metadata": {
    "execution": {
     "iopub.execute_input": "2023-10-31T12:00:13.133346Z",
     "iopub.status.busy": "2023-10-31T12:00:13.132345Z",
     "iopub.status.idle": "2023-10-31T12:00:13.135345Z",
     "shell.execute_reply": "2023-10-31T12:00:13.134347Z"
    },
    "tags": []
   },
   "outputs": [
    {
     "name": "stdout",
     "output_type": "stream",
     "text": [
      "17\n"
     ]
    }
   ],
   "source": [
    "function sum(...numbers){\n",
    "    let result = 0;\n",
    "    for(let num of numbers){\n",
    "        result += num;\n",
    "    }\n",
    "    return result;\n",
    "}\n",
    "\n",
    "var res = sum(1,2,3,5,6);\n",
    "console.log(res);"
   ]
  },
  {
   "cell_type": "code",
   "execution_count": 1,
   "id": "3be93b87-6485-475b-99f4-80cdcd33c66f",
   "metadata": {
    "execution": {
     "iopub.execute_input": "2023-10-31T12:04:16.492831Z",
     "iopub.status.busy": "2023-10-31T12:04:16.492831Z",
     "iopub.status.idle": "2023-10-31T12:04:16.492831Z",
     "shell.execute_reply": "2023-10-31T12:04:16.492831Z"
    },
    "tags": []
   },
   "outputs": [
    {
     "name": "stdout",
     "output_type": "stream",
     "text": [
      "name : Tom, age : 12\n"
     ]
    }
   ],
   "source": [
    "const user = {\n",
    "    name : 'Tom',\n",
    "    age : 12\n",
    "};\n",
    "\n",
    "function printUser({name, age}){\n",
    "    console.log(`name : ${name}, age : ${age}`);\n",
    "}\n",
    "\n",
    "printUser(user);"
   ]
  },
  {
   "cell_type": "code",
   "execution_count": 2,
   "id": "6fef4bd8-5001-4ec7-96b0-901b07cc5281",
   "metadata": {
    "execution": {
     "iopub.execute_input": "2023-10-31T12:08:08.180873Z",
     "iopub.status.busy": "2023-10-31T12:08:08.179873Z",
     "iopub.status.idle": "2023-10-31T12:08:08.182873Z",
     "shell.execute_reply": "2023-10-31T12:08:08.183872Z"
    }
   },
   "outputs": [
    {
     "name": "stdout",
     "output_type": "stream",
     "text": [
      "point:x = 1, y = 2\n"
     ]
    }
   ],
   "source": [
    "function printPoint([x,y]){\n",
    "    console.log(`point:x = ${x}, y = ${y}`);\n",
    "}\n",
    "\n",
    "var point = [1, 2];\n",
    "\n",
    "printPoint(point);"
   ]
  },
  {
   "cell_type": "code",
   "execution_count": 7,
   "id": "02f5cb43-06c0-4d42-bac3-23336e0d78a6",
   "metadata": {
    "execution": {
     "iopub.execute_input": "2023-10-31T12:14:35.060168Z",
     "iopub.status.busy": "2023-10-31T12:14:35.059168Z",
     "iopub.status.idle": "2023-10-31T12:14:35.064169Z",
     "shell.execute_reply": "2023-10-31T12:14:35.063168Z"
    },
    "tags": []
   },
   "outputs": [
    {
     "name": "stdout",
     "output_type": "stream",
     "text": [
      "Hello tom you are 10 years old\n",
      "Hello james you are 10 years old\n",
      "Hello lucy you are 26 years old\n"
     ]
    }
   ],
   "source": [
    "function greet({name = 'tom', age = 10} = {}){\n",
    "    console.log(`Hello ${name} you are ${age} years old`);\n",
    "}\n",
    "\n",
    "greet();\n",
    "greet({name : 'james'});\n",
    "greet({name : 'lucy', age : 26})"
   ]
  },
  {
   "cell_type": "code",
   "execution_count": 2,
   "id": "4f3a8b6d-1f52-430f-bf6e-439b6423a83e",
   "metadata": {
    "execution": {
     "iopub.execute_input": "2023-10-31T12:25:56.895762Z",
     "iopub.status.busy": "2023-10-31T12:25:56.894762Z",
     "iopub.status.idle": "2023-10-31T12:25:56.897762Z",
     "shell.execute_reply": "2023-10-31T12:25:56.898762Z"
    },
    "tags": []
   },
   "outputs": [
    {
     "name": "stdout",
     "output_type": "stream",
     "text": [
      "name = zhouyf address = changchun 自由大路\n"
     ]
    }
   ],
   "source": [
    "const student = {\n",
    "    name : 'zhouyf',\n",
    "    address : {\n",
    "        city : 'changchun',\n",
    "        street : '自由大路'\n",
    "    }\n",
    "};\n",
    "\n",
    "function printStudent({name, address : {city, street}}){\n",
    "    console.log(`name = ${name} address = ${city} ${street}`);\n",
    "}\n",
    "\n",
    "printStudent(student);"
   ]
  },
  {
   "cell_type": "code",
   "execution_count": 3,
   "id": "952d14c5-4aec-46cc-abfb-03b5d53a9340",
   "metadata": {
    "execution": {
     "iopub.execute_input": "2023-10-31T12:32:04.143362Z",
     "iopub.status.busy": "2023-10-31T12:32:04.143362Z",
     "iopub.status.idle": "2023-10-31T12:32:04.146362Z",
     "shell.execute_reply": "2023-10-31T12:32:04.145362Z"
    }
   },
   "outputs": [
    {
     "name": "stdout",
     "output_type": "stream",
     "text": [
      "Bob\n"
     ]
    }
   ],
   "source": [
    "var name = \"Alice\";\n",
    "\n",
    "function outerFunction() {\n",
    "    var name = \"Bob\";\n",
    "    \n",
    "    function innerFunction() {\n",
    "        console.log(name); // 输出 \"Bob\" 而不是 \"Alice\"\n",
    "    }\n",
    "    \n",
    "    innerFunction();\n",
    "}\n",
    "\n",
    "outerFunction();"
   ]
  },
  {
   "cell_type": "code",
   "execution_count": 4,
   "id": "7c8e37e1-7767-40a3-b0cb-11b0cc48ba56",
   "metadata": {
    "execution": {
     "iopub.execute_input": "2023-10-31T12:38:22.401790Z",
     "iopub.status.busy": "2023-10-31T12:38:22.400791Z",
     "iopub.status.idle": "2023-10-31T12:38:22.403791Z",
     "shell.execute_reply": "2023-10-31T12:38:22.402792Z"
    }
   },
   "outputs": [
    {
     "name": "stdout",
     "output_type": "stream",
     "text": [
      "12345\n"
     ]
    }
   ],
   "source": [
    "(function (){\n",
    "    console.log('12345');\n",
    "}\n",
    ")();"
   ]
  },
  {
   "cell_type": "code",
   "execution_count": 5,
   "id": "d3a03c45-f235-46a1-a13b-86e87cfd0c58",
   "metadata": {
    "execution": {
     "iopub.execute_input": "2023-10-31T12:39:16.574717Z",
     "iopub.status.busy": "2023-10-31T12:39:16.573718Z",
     "iopub.status.idle": "2023-10-31T12:39:16.575716Z",
     "shell.execute_reply": "2023-10-31T12:39:16.575716Z"
    }
   },
   "outputs": [
    {
     "name": "stdout",
     "output_type": "stream",
     "text": [
      "3\n"
     ]
    }
   ],
   "source": [
    "(function (){\n",
    "    var a = 1;\n",
    "    var b = 2;\n",
    "    var res = a + b;\n",
    "    console.log(res);\n",
    "}\n",
    ")();"
   ]
  },
  {
   "cell_type": "code",
   "execution_count": 7,
   "id": "c36004e4-8359-4582-a016-0d83951b9ed3",
   "metadata": {
    "execution": {
     "iopub.execute_input": "2023-10-31T12:40:59.934293Z",
     "iopub.status.busy": "2023-10-31T12:40:59.934293Z",
     "iopub.status.idle": "2023-10-31T12:40:59.936293Z",
     "shell.execute_reply": "2023-10-31T12:40:59.936293Z"
    },
    "tags": []
   },
   "outputs": [
    {
     "name": "stdout",
     "output_type": "stream",
     "text": [
      "123\n"
     ]
    }
   ],
   "source": [
    "(() => {\n",
    "    console.log('123');\n",
    "})();"
   ]
  },
  {
   "cell_type": "code",
   "execution_count": null,
   "id": "2f80aff3-a5e1-4893-8915-584973b78287",
   "metadata": {},
   "outputs": [],
   "source": []
  }
 ],
 "metadata": {
  "kernelspec": {
   "display_name": "JavaScript (Node.js)",
   "language": "javascript",
   "name": "javascript"
  },
  "language_info": {
   "file_extension": ".js",
   "mimetype": "application/javascript",
   "name": "javascript",
   "version": "18.16.0"
  }
 },
 "nbformat": 4,
 "nbformat_minor": 5
}
